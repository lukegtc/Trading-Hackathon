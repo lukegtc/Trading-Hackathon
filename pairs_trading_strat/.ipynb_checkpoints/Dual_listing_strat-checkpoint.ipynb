{
 "cells": [
  {
   "cell_type": "markdown",
   "id": "1310fd65-b68e-4638-b0b2-80d32cb93580",
   "metadata": {},
   "source": [
    "# Dual listing order book strategy"
   ]
  },
  {
   "cell_type": "code",
   "execution_count": null,
   "id": "9d60bc92-690a-4958-8273-8ae63a5082fe",
   "metadata": {},
   "outputs": [],
   "source": [
    "\"\"\"\n",
    "Psuedocode\n",
    "\n",
    "1. get buy ask phillips_A\n",
    "2. get buy ask phillips_B\n",
    "3. check for trading opportunity:\n",
    "    if ask phillips_A < bid phillips_B:\n",
    "        Check which is less liquid:\n",
    "            Buy A, sell B\n",
    "    if ask phillips_B < bid phillips_A:\n",
    "        Check which is less liquid:\n",
    "            Buy B, sell A\n",
    "\n",
    "\n",
    "\"\"\""
   ]
  },
  {
   "cell_type": "code",
   "execution_count": null,
   "id": "5777b9e0-15c1-4964-9aef-48092c12d9fc",
   "metadata": {},
   "outputs": [],
   "source": [
    "\"\"\"\n",
    "from optibook.synchronous_client import Exchange\n",
    "\n",
    "import logging\n",
    "logger = logging.getLogger('client')\n",
    "logger.setLevel('ERROR')\n",
    "\n",
    "print(\"Setup was successful.\")\n",
    "\n",
    "\n",
    "e = Exchange()\n",
    "a = e.connect()\n",
    "\n",
    "# you can also define host/user/pass yourself\n",
    "# when not defined, it is taken from ~/.optibook file if it exists\n",
    "# if that file does not exists, an error is thrown\n",
    "\n",
    "#e = Exchange(host='host-to-connect-to')\n",
    "#a = e.connect(username='your-username', password='your-password')\n",
    "\n",
    "\"\"\""
   ]
  },
  {
   "cell_type": "code",
   "execution_count": null,
   "id": "ce49f9b6-654c-4247-8998-0b6de9f17ad0",
   "metadata": {},
   "outputs": [],
   "source": [
    "instrument_id_A = 'PHILIPS_A'\n",
    "instrument_id_B = 'PHILIPS_B'"
   ]
  },
  {
   "cell_type": "code",
   "execution_count": 1,
   "id": "7c7c5b11-3bb5-43e6-9a4d-2f703a588ec0",
   "metadata": {},
   "outputs": [
    {
     "ename": "NameError",
     "evalue": "name 'e' is not defined",
     "output_type": "error",
     "traceback": [
      "\u001b[0;31m---------------------------------------------------------------------------\u001b[0m",
      "\u001b[0;31mNameError\u001b[0m                                 Traceback (most recent call last)",
      "\u001b[0;32m<ipython-input-1-6b4f1cf2446a>\u001b[0m in \u001b[0;36m<module>\u001b[0;34m\u001b[0m\n\u001b[0;32m----> 1\u001b[0;31m \u001b[0mbook\u001b[0m \u001b[0;34m=\u001b[0m \u001b[0me\u001b[0m\u001b[0;34m.\u001b[0m\u001b[0mget_last_price_book\u001b[0m\u001b[0;34m(\u001b[0m\u001b[0minstrument_id_A\u001b[0m\u001b[0;34m)\u001b[0m\u001b[0;34m\u001b[0m\u001b[0;34m\u001b[0m\u001b[0m\n\u001b[0m\u001b[1;32m      2\u001b[0m \u001b[0mID_A\u001b[0m\u001b[0;34m,\u001b[0m \u001b[0mtime_A\u001b[0m\u001b[0;34m,\u001b[0m \u001b[0mbids_A\u001b[0m\u001b[0;34m,\u001b[0m \u001b[0masks_A\u001b[0m \u001b[0;34m=\u001b[0m \u001b[0mbook\u001b[0m\u001b[0;34m.\u001b[0m\u001b[0minstrument_id\u001b[0m\u001b[0;34m,\u001b[0m \u001b[0mbook\u001b[0m\u001b[0;34m.\u001b[0m\u001b[0mtimestamp\u001b[0m\u001b[0;34m,\u001b[0m \u001b[0mbook\u001b[0m\u001b[0;34m.\u001b[0m\u001b[0mbids\u001b[0m\u001b[0;34m,\u001b[0m \u001b[0mbook\u001b[0m\u001b[0;34m.\u001b[0m\u001b[0masks\u001b[0m\u001b[0;34m\u001b[0m\u001b[0;34m\u001b[0m\u001b[0m\n\u001b[1;32m      3\u001b[0m \u001b[0mbook\u001b[0m \u001b[0;34m=\u001b[0m \u001b[0me\u001b[0m\u001b[0;34m.\u001b[0m\u001b[0mget_last_price_book\u001b[0m\u001b[0;34m(\u001b[0m\u001b[0minstrument_id_B\u001b[0m\u001b[0;34m)\u001b[0m\u001b[0;34m\u001b[0m\u001b[0;34m\u001b[0m\u001b[0m\n\u001b[1;32m      4\u001b[0m \u001b[0mID_B\u001b[0m\u001b[0;34m,\u001b[0m \u001b[0mtime_B\u001b[0m\u001b[0;34m,\u001b[0m \u001b[0mbids_B\u001b[0m\u001b[0;34m,\u001b[0m \u001b[0masks_B\u001b[0m \u001b[0;34m=\u001b[0m \u001b[0mbook\u001b[0m\u001b[0;34m.\u001b[0m\u001b[0minstrument_id\u001b[0m\u001b[0;34m,\u001b[0m \u001b[0mbook\u001b[0m\u001b[0;34m.\u001b[0m\u001b[0mtimestamp\u001b[0m\u001b[0;34m,\u001b[0m \u001b[0mbook\u001b[0m\u001b[0;34m.\u001b[0m\u001b[0mbids\u001b[0m\u001b[0;34m,\u001b[0m \u001b[0mbook\u001b[0m\u001b[0;34m.\u001b[0m\u001b[0masks\u001b[0m\u001b[0;34m\u001b[0m\u001b[0;34m\u001b[0m\u001b[0m\n",
      "\u001b[0;31mNameError\u001b[0m: name 'e' is not defined"
     ]
    }
   ],
   "source": []
  },
  {
   "cell_type": "code",
   "execution_count": 2,
   "id": "6ce93033-dade-432d-960e-2e4054eeeb27",
   "metadata": {},
   "outputs": [
    {
     "ename": "IndentationError",
     "evalue": "expected an indented block (<ipython-input-2-33527a7c0ce2>, line 10)",
     "output_type": "error",
     "traceback": [
      "\u001b[0;36m  File \u001b[0;32m\"<ipython-input-2-33527a7c0ce2>\"\u001b[0;36m, line \u001b[0;32m10\u001b[0m\n\u001b[0;31m    if asks_B[0].price < bids_A[0].price:\u001b[0m\n\u001b[0m     ^\u001b[0m\n\u001b[0;31mIndentationError\u001b[0m\u001b[0;31m:\u001b[0m expected an indented block\n"
     ]
    }
   ],
   "source": [
    "def pair_trading():\n",
    "    while True:\n",
    "        book = e.get_last_price_book(instrument_id_A)\n",
    "        ID_A, time_A, bids_A, asks_A = book.instrument_id, book.timestamp, book.bids, book.asks\n",
    "        book = e.get_last_price_book(instrument_id_B)\n",
    "        ID_B, time_B, bids_B, asks_B = book.instrument_id, book.timestamp, book.bids, book.asks\n",
    "        \n",
    "        if asks_A[0].price < bids_B[0].price:\n",
    "            #Buy A, sell B\n",
    "        if asks_B[0].price < bids_A[0].price:\n",
    "            #Buy B, sell A"
   ]
  },
  {
   "cell_type": "code",
   "execution_count": null,
   "id": "f767f995-9cc9-40a3-bad9-b7f2e23022e4",
   "metadata": {},
   "outputs": [],
   "source": []
  }
 ],
 "metadata": {
  "kernelspec": {
   "display_name": "Python 3",
   "language": "python",
   "name": "python3"
  },
  "language_info": {
   "codemirror_mode": {
    "name": "ipython",
    "version": 3
   },
   "file_extension": ".py",
   "mimetype": "text/x-python",
   "name": "python",
   "nbconvert_exporter": "python",
   "pygments_lexer": "ipython3",
   "version": "3.6.12"
  }
 },
 "nbformat": 4,
 "nbformat_minor": 5
}
